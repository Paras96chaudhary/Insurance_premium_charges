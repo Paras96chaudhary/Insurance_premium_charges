{
 "cells": [
  {
   "cell_type": "code",
   "execution_count": null,
   "id": "de8cbaec",
   "metadata": {},
   "outputs": [],
   "source": [
    "1.Import all essential libraries\n",
    "2.Data loading\n",
    "3.EDA :- Exploratory Data Analysis\n",
    "    i) treating null values ii)Duplicate values iii)outliers\n",
    "4.Data Visualisation\n",
    "5.Feature selection- kmeans(unsupervised learning model)\n",
    "6.Model creation"
   ]
  },
  {
   "cell_type": "code",
   "execution_count": 70,
   "id": "ba1f4ba5",
   "metadata": {},
   "outputs": [],
   "source": [
    "##import all essential libraries\n",
    "import pandas as pd \n",
    "import numpy as np\n",
    "import matplotlib.pyplot as plt"
   ]
  },
  {
   "cell_type": "code",
   "execution_count": 71,
   "id": "c3ac933d",
   "metadata": {},
   "outputs": [],
   "source": [
    "df=pd.read_csv('Mall_Customers[1].csv')"
   ]
  },
  {
   "cell_type": "code",
   "execution_count": 72,
   "id": "a2b1b431",
   "metadata": {},
   "outputs": [
    {
     "data": {
      "text/html": [
       "<div>\n",
       "<style scoped>\n",
       "    .dataframe tbody tr th:only-of-type {\n",
       "        vertical-align: middle;\n",
       "    }\n",
       "\n",
       "    .dataframe tbody tr th {\n",
       "        vertical-align: top;\n",
       "    }\n",
       "\n",
       "    .dataframe thead th {\n",
       "        text-align: right;\n",
       "    }\n",
       "</style>\n",
       "<table border=\"1\" class=\"dataframe\">\n",
       "  <thead>\n",
       "    <tr style=\"text-align: right;\">\n",
       "      <th></th>\n",
       "      <th>CustomerID</th>\n",
       "      <th>Gender</th>\n",
       "      <th>Age</th>\n",
       "      <th>Annual Income (k$)</th>\n",
       "      <th>Spending Score (1-100)</th>\n",
       "    </tr>\n",
       "  </thead>\n",
       "  <tbody>\n",
       "    <tr>\n",
       "      <th>0</th>\n",
       "      <td>1</td>\n",
       "      <td>Male</td>\n",
       "      <td>19</td>\n",
       "      <td>15</td>\n",
       "      <td>39</td>\n",
       "    </tr>\n",
       "    <tr>\n",
       "      <th>1</th>\n",
       "      <td>2</td>\n",
       "      <td>Male</td>\n",
       "      <td>21</td>\n",
       "      <td>15</td>\n",
       "      <td>81</td>\n",
       "    </tr>\n",
       "    <tr>\n",
       "      <th>2</th>\n",
       "      <td>3</td>\n",
       "      <td>Female</td>\n",
       "      <td>20</td>\n",
       "      <td>16</td>\n",
       "      <td>6</td>\n",
       "    </tr>\n",
       "    <tr>\n",
       "      <th>3</th>\n",
       "      <td>4</td>\n",
       "      <td>Female</td>\n",
       "      <td>23</td>\n",
       "      <td>16</td>\n",
       "      <td>77</td>\n",
       "    </tr>\n",
       "    <tr>\n",
       "      <th>4</th>\n",
       "      <td>5</td>\n",
       "      <td>Female</td>\n",
       "      <td>31</td>\n",
       "      <td>17</td>\n",
       "      <td>40</td>\n",
       "    </tr>\n",
       "  </tbody>\n",
       "</table>\n",
       "</div>"
      ],
      "text/plain": [
       "   CustomerID  Gender  Age  Annual Income (k$)  Spending Score (1-100)\n",
       "0           1    Male   19                  15                      39\n",
       "1           2    Male   21                  15                      81\n",
       "2           3  Female   20                  16                       6\n",
       "3           4  Female   23                  16                      77\n",
       "4           5  Female   31                  17                      40"
      ]
     },
     "execution_count": 72,
     "metadata": {},
     "output_type": "execute_result"
    }
   ],
   "source": [
    "df.head()"
   ]
  },
  {
   "cell_type": "code",
   "execution_count": 73,
   "id": "fd22c5d1",
   "metadata": {},
   "outputs": [
    {
     "name": "stdout",
     "output_type": "stream",
     "text": [
      "<class 'pandas.core.frame.DataFrame'>\n",
      "RangeIndex: 200 entries, 0 to 199\n",
      "Data columns (total 5 columns):\n",
      " #   Column                  Non-Null Count  Dtype \n",
      "---  ------                  --------------  ----- \n",
      " 0   CustomerID              200 non-null    int64 \n",
      " 1   Gender                  200 non-null    object\n",
      " 2   Age                     200 non-null    int64 \n",
      " 3   Annual Income (k$)      200 non-null    int64 \n",
      " 4   Spending Score (1-100)  200 non-null    int64 \n",
      "dtypes: int64(4), object(1)\n",
      "memory usage: 7.9+ KB\n"
     ]
    }
   ],
   "source": [
    "df.info()"
   ]
  },
  {
   "cell_type": "code",
   "execution_count": 74,
   "id": "889b5de3",
   "metadata": {},
   "outputs": [
    {
     "data": {
      "text/plain": [
       "CustomerID                0\n",
       "Gender                    0\n",
       "Age                       0\n",
       "Annual Income (k$)        0\n",
       "Spending Score (1-100)    0\n",
       "dtype: int64"
      ]
     },
     "execution_count": 74,
     "metadata": {},
     "output_type": "execute_result"
    }
   ],
   "source": [
    "df.isnull().sum()"
   ]
  },
  {
   "cell_type": "code",
   "execution_count": 75,
   "id": "9c1115e1",
   "metadata": {},
   "outputs": [
    {
     "data": {
      "text/plain": [
       "0"
      ]
     },
     "execution_count": 75,
     "metadata": {},
     "output_type": "execute_result"
    }
   ],
   "source": [
    "df.duplicated().sum()"
   ]
  },
  {
   "cell_type": "code",
   "execution_count": null,
   "id": "08952c0c",
   "metadata": {},
   "outputs": [],
   "source": [
    "## Data Visualization\n",
    "# perform different visual plots for Analysis of data"
   ]
  },
  {
   "cell_type": "code",
   "execution_count": 76,
   "id": "ba02af74",
   "metadata": {},
   "outputs": [],
   "source": [
    "import seaborn as sns"
   ]
  },
  {
   "cell_type": "code",
   "execution_count": 77,
   "id": "916cf8ca",
   "metadata": {},
   "outputs": [
    {
     "data": {
      "text/plain": [
       "<AxesSubplot:>"
      ]
     },
     "execution_count": 77,
     "metadata": {},
     "output_type": "execute_result"
    },
    {
     "data": {
      "image/png": "[encoded data removed]",
      "text/plain": [
       "<Figure size 800x500 with 2 Axes>"
      ]
     },
     "metadata": {},
     "output_type": "display_data"
    }
   ],
   "source": [
    "fig=plt.figure(figsize=(8,5))\n",
    "sns.heatmap(df.corr(),cmap=\"rainbow\",annot=True)"
   ]
  },
  {
   "cell_type": "code",
   "execution_count": 78,
   "id": "24ce11d5",
   "metadata": {},
   "outputs": [
    {
     "data": {
      "text/plain": [
       "Index(['CustomerID', 'Gender', 'Age', 'Annual Income (k$)',\n",
       "       'Spending Score (1-100)'],\n",
       "      dtype='object')"
      ]
     },
     "execution_count": 78,
     "metadata": {},
     "output_type": "execute_result"
    }
   ],
   "source": [
    "df.columns"
   ]
  },
  {
   "cell_type": "code",
   "execution_count": 79,
   "id": "8cd9ed09",
   "metadata": {},
   "outputs": [],
   "source": [
    "col=list(df.columns)"
   ]
  },
  {
   "cell_type": "code",
   "execution_count": 80,
   "id": "72d3f19b",
   "metadata": {},
   "outputs": [
    {
     "data": {
      "text/plain": [
       "['CustomerID', 'Gender', 'Age', 'Annual Income (k$)', 'Spending Score (1-100)']"
      ]
     },
     "execution_count": 80,
     "metadata": {},
     "output_type": "execute_result"
    }
   ],
   "source": [
    "col"
   ]
  },
  {
   "cell_type": "code",
   "execution_count": 81,
   "id": "95837b7c",
   "metadata": {},
   "outputs": [],
   "source": [
    "#outlier detention"
   ]
  },
  {
   "cell_type": "code",
   "execution_count": 82,
   "id": "b32d92e9",
   "metadata": {},
   "outputs": [
    {
     "data": {
      "image/png": "[encoded data removed]",
      "text/plain": [
       "<Figure size 640x480 with 1 Axes>"
      ]
     },
     "metadata": {},
     "output_type": "display_data"
    },
    {
     "data": {
      "image/png": "[encoded data removed]",
      "text/plain": [
       "<Figure size 640x480 with 1 Axes>"
      ]
     },
     "metadata": {},
     "output_type": "display_data"
    },
    {
     "data": {
      "image/png": "[encoded data removed]",
      "text/plain": [
       "<Figure size 640x480 with 1 Axes>"
      ]
     },
     "metadata": {},
     "output_type": "display_data"
    },
    {
     "data": {
      "image/png": "[encoded data removed]",
      "text/plain": [
       "<Figure size 640x480 with 1 Axes>"
      ]
     },
     "metadata": {},
     "output_type": "display_data"
    }
   ],
   "source": [
    "for col_name in col:\n",
    "    if (df[col_name].dtypes == 'int64' or df[col_name].dtypes == 'float64'):\n",
    "        plt.boxplot(df[col_name])\n",
    "        plt.xlabel(col_name)\n",
    "        plt.ylabel(\"count\")\n",
    "        plt.show()"
   ]
  },
  {
   "cell_type": "code",
   "execution_count": null,
   "id": "3ae63f9b",
   "metadata": {},
   "outputs": [],
   "source": [
    "## There is no outliers detect in this data"
   ]
  },
  {
   "cell_type": "code",
   "execution_count": 84,
   "id": "ff307295",
   "metadata": {},
   "outputs": [
    {
     "data": {
      "text/plain": [
       "CustomerID                 int64\n",
       "Gender                    object\n",
       "Age                        int64\n",
       "Annual Income (k$)         int64\n",
       "Spending Score (1-100)     int64\n",
       "dtype: object"
      ]
     },
     "execution_count": 84,
     "metadata": {},
     "output_type": "execute_result"
    }
   ],
   "source": [
    "df.dtypes"
   ]
  },
  {
   "cell_type": "code",
   "execution_count": 100,
   "id": "96882aca",
   "metadata": {},
   "outputs": [],
   "source": [
    "df=df.drop(['Gender'],axis=1)"
   ]
  },
  {
   "cell_type": "code",
   "execution_count": 101,
   "id": "dd892316",
   "metadata": {},
   "outputs": [],
   "source": [
    "# Rescaling the Features\n",
    "import sklearn\n",
    "from sklearn.preprocessing import StandardScaler"
   ]
  },
  {
   "cell_type": "code",
   "execution_count": 102,
   "id": "fbf28cca",
   "metadata": {},
   "outputs": [
    {
     "data": {
      "text/plain": [
       "array([[-1.7234121 , -1.42456879, -1.73899919, -0.43480148],\n",
       "       [-1.70609137, -1.28103541, -1.73899919,  1.19570407],\n",
       "       [-1.68877065, -1.3528021 , -1.70082976, -1.71591298],\n",
       "       [-1.67144992, -1.13750203, -1.70082976,  1.04041783],\n",
       "       [-1.6541292 , -0.56336851, -1.66266033, -0.39597992],\n",
       "       [-1.63680847, -1.20926872, -1.66266033,  1.00159627],\n",
       "       [-1.61948775, -0.27630176, -1.62449091, -1.71591298],\n",
       "       [-1.60216702, -1.13750203, -1.62449091,  1.70038436],\n",
       "       [-1.5848463 ,  1.80493225, -1.58632148, -1.83237767],\n",
       "       [-1.56752558, -0.6351352 , -1.58632148,  0.84631002],\n",
       "       [-1.55020485,  2.02023231, -1.58632148, -1.4053405 ],\n",
       "       [-1.53288413, -0.27630176, -1.58632148,  1.89449216],\n",
       "       [-1.5155634 ,  1.37433211, -1.54815205, -1.36651894],\n",
       "       [-1.49824268, -1.06573534, -1.54815205,  1.04041783],\n",
       "       [-1.48092195, -0.13276838, -1.54815205, -1.44416206],\n",
       "       [-1.46360123, -1.20926872, -1.54815205,  1.11806095],\n",
       "       [-1.4462805 , -0.27630176, -1.50998262, -0.59008772],\n",
       "       [-1.42895978, -1.3528021 , -1.50998262,  0.61338066],\n",
       "       [-1.41163905,  0.94373197, -1.43364376, -0.82301709],\n",
       "       [-1.39431833, -0.27630176, -1.43364376,  1.8556706 ],\n",
       "       [-1.3769976 , -0.27630176, -1.39547433, -0.59008772],\n",
       "       [-1.35967688, -0.99396865, -1.39547433,  0.88513158],\n",
       "       [-1.34235616,  0.51313183, -1.3573049 , -1.75473454],\n",
       "       [-1.32503543, -0.56336851, -1.3573049 ,  0.88513158],\n",
       "       [-1.30771471,  1.08726535, -1.24279661, -1.4053405 ],\n",
       "       [-1.29039398, -0.70690189, -1.24279661,  1.23452563],\n",
       "       [-1.27307326,  0.44136514, -1.24279661, -0.7065524 ],\n",
       "       [-1.25575253, -0.27630176, -1.24279661,  0.41927286],\n",
       "       [-1.23843181,  0.08253169, -1.20462718, -0.74537397],\n",
       "       [-1.22111108, -1.13750203, -1.20462718,  1.42863343],\n",
       "       [-1.20379036,  1.51786549, -1.16645776, -1.7935561 ],\n",
       "       [-1.18646963, -1.28103541, -1.16645776,  0.88513158],\n",
       "       [-1.16914891,  1.01549866, -1.05194947, -1.7935561 ],\n",
       "       [-1.15182818, -1.49633548, -1.05194947,  1.62274124],\n",
       "       [-1.13450746,  0.7284319 , -1.05194947, -1.4053405 ],\n",
       "       [-1.11718674, -1.28103541, -1.05194947,  1.19570407],\n",
       "       [-1.09986601,  0.22606507, -1.01378004, -1.28887582],\n",
       "       [-1.08254529, -0.6351352 , -1.01378004,  0.88513158],\n",
       "       [-1.06522456, -0.20453507, -0.89927175, -0.93948177],\n",
       "       [-1.04790384, -1.3528021 , -0.89927175,  0.96277471],\n",
       "       [-1.03058311,  1.87669894, -0.86110232, -0.59008772],\n",
       "       [-1.01326239, -1.06573534, -0.86110232,  1.62274124],\n",
       "       [-0.99594166,  0.65666521, -0.82293289, -0.55126616],\n",
       "       [-0.97862094, -0.56336851, -0.82293289,  0.41927286],\n",
       "       [-0.96130021,  0.7284319 , -0.82293289, -0.86183865],\n",
       "       [-0.94397949, -1.06573534, -0.82293289,  0.5745591 ],\n",
       "       [-0.92665877,  0.80019859, -0.78476346,  0.18634349],\n",
       "       [-0.90933804, -0.85043527, -0.78476346, -0.12422899],\n",
       "       [-0.89201732, -0.70690189, -0.78476346, -0.3183368 ],\n",
       "       [-0.87469659, -0.56336851, -0.78476346, -0.3183368 ],\n",
       "       [-0.85737587,  0.7284319 , -0.70842461,  0.06987881],\n",
       "       [-0.84005514, -0.41983513, -0.70842461,  0.38045129],\n",
       "       [-0.82273442, -0.56336851, -0.67025518,  0.14752193],\n",
       "       [-0.80541369,  1.4460988 , -0.67025518,  0.38045129],\n",
       "       [-0.78809297,  0.80019859, -0.67025518, -0.20187212],\n",
       "       [-0.77077224,  0.58489852, -0.67025518, -0.35715836],\n",
       "       [-0.75345152,  0.87196528, -0.63208575, -0.00776431],\n",
       "       [-0.73613079,  2.16376569, -0.63208575, -0.16305055],\n",
       "       [-0.71881007, -0.85043527, -0.55574689,  0.03105725],\n",
       "       [-0.70148935,  1.01549866, -0.55574689, -0.16305055],\n",
       "       [-0.68416862,  2.23553238, -0.55574689,  0.22516505],\n",
       "       [-0.6668479 , -1.42456879, -0.55574689,  0.18634349],\n",
       "       [-0.64952717,  2.02023231, -0.51757746,  0.06987881],\n",
       "       [-0.63220645,  1.08726535, -0.51757746,  0.34162973],\n",
       "       [-0.61488572,  1.73316556, -0.47940803,  0.03105725],\n",
       "       [-0.597565  , -1.49633548, -0.47940803,  0.34162973],\n",
       "       [-0.58024427,  0.29783176, -0.47940803, -0.00776431],\n",
       "       [-0.56292355,  2.091999  , -0.47940803, -0.08540743],\n",
       "       [-0.54560282, -1.42456879, -0.47940803,  0.34162973],\n",
       "       [-0.5282821 , -0.49160182, -0.47940803, -0.12422899],\n",
       "       [-0.51096138,  2.23553238, -0.4412386 ,  0.18634349],\n",
       "       [-0.49364065,  0.58489852, -0.4412386 , -0.3183368 ],\n",
       "       [-0.47631993,  1.51786549, -0.40306917, -0.04658587],\n",
       "       [-0.4589992 ,  1.51786549, -0.40306917,  0.22516505],\n",
       "       [-0.44167848,  1.4460988 , -0.25039146, -0.12422899],\n",
       "       [-0.42435775, -0.92220196, -0.25039146,  0.14752193],\n",
       "       [-0.40703703,  0.44136514, -0.25039146,  0.10870037],\n",
       "       [-0.3897163 ,  0.08253169, -0.25039146, -0.08540743],\n",
       "       [-0.37239558, -1.13750203, -0.25039146,  0.06987881],\n",
       "       [-0.35507485,  0.7284319 , -0.25039146, -0.3183368 ],\n",
       "       [-0.33775413,  1.30256542, -0.25039146,  0.03105725],\n",
       "       [-0.3204334 , -0.06100169, -0.25039146,  0.18634349],\n",
       "       [-0.30311268,  2.02023231, -0.25039146, -0.35715836],\n",
       "       [-0.28579196,  0.51313183, -0.25039146, -0.24069368],\n",
       "       [-0.26847123, -1.28103541, -0.25039146,  0.26398661],\n",
       "       [-0.25115051,  0.65666521, -0.25039146, -0.16305055],\n",
       "       [-0.23382978,  1.15903204, -0.13588317,  0.30280817],\n",
       "       [-0.21650906, -1.20926872, -0.13588317,  0.18634349],\n",
       "       [-0.19918833, -0.34806844, -0.09771374,  0.38045129],\n",
       "       [-0.18186761,  0.80019859, -0.09771374, -0.16305055],\n",
       "       [-0.16454688,  2.091999  , -0.05954431,  0.18634349],\n",
       "       [-0.14722616, -1.49633548, -0.05954431, -0.35715836],\n",
       "       [-0.12990543,  0.65666521, -0.02137488, -0.04658587],\n",
       "       [-0.11258471,  0.08253169, -0.02137488, -0.39597992],\n",
       "       [-0.09526399, -0.49160182, -0.02137488, -0.3183368 ],\n",
       "       [-0.07794326, -1.06573534, -0.02137488,  0.06987881],\n",
       "       [-0.06062254,  0.58489852, -0.02137488, -0.12422899],\n",
       "       [-0.04330181, -0.85043527, -0.02137488, -0.00776431],\n",
       "       [-0.02598109,  0.65666521,  0.01679455, -0.3183368 ],\n",
       "       [-0.00866036, -1.3528021 ,  0.01679455, -0.04658587],\n",
       "       [ 0.00866036, -1.13750203,  0.05496398, -0.35715836],\n",
       "       [ 0.02598109,  0.7284319 ,  0.05496398, -0.08540743],\n",
       "       [ 0.04330181,  2.02023231,  0.05496398,  0.34162973],\n",
       "       [ 0.06062254, -0.92220196,  0.05496398,  0.18634349],\n",
       "       [ 0.07794326,  0.7284319 ,  0.05496398,  0.22516505],\n",
       "       [ 0.09526399, -1.28103541,  0.05496398, -0.3183368 ],\n",
       "       [ 0.11258471,  1.94846562,  0.09313341, -0.00776431],\n",
       "       [ 0.12990543,  1.08726535,  0.09313341, -0.16305055],\n",
       "       [ 0.14722616,  2.091999  ,  0.09313341, -0.27951524],\n",
       "       [ 0.16454688,  1.94846562,  0.09313341, -0.08540743],\n",
       "       [ 0.18186761,  1.87669894,  0.09313341,  0.06987881],\n",
       "       [ 0.19918833, -1.42456879,  0.09313341,  0.14752193],\n",
       "       [ 0.21650906, -0.06100169,  0.13130284, -0.3183368 ],\n",
       "       [ 0.23382978, -1.42456879,  0.13130284, -0.16305055],\n",
       "       [ 0.25115051, -1.49633548,  0.16947227, -0.08540743],\n",
       "       [ 0.26847123, -1.42456879,  0.16947227, -0.00776431],\n",
       "       [ 0.28579196,  1.73316556,  0.16947227, -0.27951524],\n",
       "       [ 0.30311268,  0.7284319 ,  0.16947227,  0.34162973],\n",
       "       [ 0.3204334 ,  0.87196528,  0.24581112, -0.27951524],\n",
       "       [ 0.33775413,  0.80019859,  0.24581112,  0.26398661],\n",
       "       [ 0.35507485, -0.85043527,  0.24581112,  0.22516505],\n",
       "       [ 0.37239558, -0.06100169,  0.24581112, -0.39597992],\n",
       "       [ 0.3897163 ,  0.08253169,  0.32214998,  0.30280817],\n",
       "       [ 0.40703703,  0.010765  ,  0.32214998,  1.58391968],\n",
       "       [ 0.42435775, -1.13750203,  0.36031941, -0.82301709],\n",
       "       [ 0.44167848, -0.56336851,  0.36031941,  1.04041783],\n",
       "       [ 0.4589992 ,  0.29783176,  0.39848884, -0.59008772],\n",
       "       [ 0.47631993,  0.08253169,  0.39848884,  1.73920592],\n",
       "       [ 0.49364065,  1.4460988 ,  0.39848884, -1.52180518],\n",
       "       [ 0.51096138, -0.06100169,  0.39848884,  0.96277471],\n",
       "       [ 0.5282821 ,  0.58489852,  0.39848884, -1.5994483 ],\n",
       "       [ 0.54560282,  0.010765  ,  0.39848884,  0.96277471],\n",
       "       [ 0.56292355, -0.99396865,  0.43665827, -0.62890928],\n",
       "       [ 0.58024427, -0.56336851,  0.43665827,  0.80748846],\n",
       "       [ 0.597565  , -1.3528021 ,  0.4748277 , -1.75473454],\n",
       "       [ 0.61488572, -0.70690189,  0.4748277 ,  1.46745499],\n",
       "       [ 0.63220645,  0.36959845,  0.4748277 , -1.67709142],\n",
       "       [ 0.64952717, -0.49160182,  0.4748277 ,  0.88513158],\n",
       "       [ 0.6668479 , -1.42456879,  0.51299713, -1.56062674],\n",
       "       [ 0.68416862, -0.27630176,  0.51299713,  0.84631002],\n",
       "       [ 0.70148935,  1.30256542,  0.55116656, -1.75473454],\n",
       "       [ 0.71881007, -0.49160182,  0.55116656,  1.6615628 ],\n",
       "       [ 0.73613079, -0.77866858,  0.58933599, -0.39597992],\n",
       "       [ 0.75345152, -0.49160182,  0.58933599,  1.42863343],\n",
       "       [ 0.77077224, -0.99396865,  0.62750542, -1.48298362],\n",
       "       [ 0.78809297, -0.77866858,  0.62750542,  1.81684904],\n",
       "       [ 0.80541369,  0.65666521,  0.62750542, -0.55126616],\n",
       "       [ 0.82273442, -0.49160182,  0.62750542,  0.92395314],\n",
       "       [ 0.84005514, -0.34806844,  0.66567484, -1.09476801],\n",
       "       [ 0.85737587, -0.34806844,  0.66567484,  1.54509812],\n",
       "       [ 0.87469659,  0.29783176,  0.66567484, -1.28887582],\n",
       "       [ 0.89201732,  0.010765  ,  0.66567484,  1.46745499],\n",
       "       [ 0.90933804,  0.36959845,  0.66567484, -1.17241113],\n",
       "       [ 0.92665877, -0.06100169,  0.66567484,  1.00159627],\n",
       "       [ 0.94397949,  0.58489852,  0.66567484, -1.32769738],\n",
       "       [ 0.96130021, -0.85043527,  0.66567484,  1.50627656],\n",
       "       [ 0.97862094, -0.13276838,  0.66567484, -1.91002079],\n",
       "       [ 0.99594166, -0.6351352 ,  0.66567484,  1.07923939],\n",
       "       [ 1.01326239, -0.34806844,  0.66567484, -1.91002079],\n",
       "       [ 1.03058311, -0.6351352 ,  0.66567484,  0.88513158],\n",
       "       [ 1.04790384,  1.23079873,  0.70384427, -0.59008772],\n",
       "       [ 1.06522456, -0.70690189,  0.70384427,  1.27334719],\n",
       "       [ 1.08254529, -1.42456879,  0.78018313, -1.75473454],\n",
       "       [ 1.09986601, -0.56336851,  0.78018313,  1.6615628 ],\n",
       "       [ 1.11718674,  0.80019859,  0.93286085, -0.93948177],\n",
       "       [ 1.13450746, -0.20453507,  0.93286085,  0.96277471],\n",
       "       [ 1.15182818,  0.22606507,  0.97103028, -1.17241113],\n",
       "       [ 1.16914891, -0.41983513,  0.97103028,  1.73920592],\n",
       "       [ 1.18646963, -0.20453507,  1.00919971, -0.90066021],\n",
       "       [ 1.20379036, -0.49160182,  1.00919971,  0.49691598],\n",
       "       [ 1.22111108,  0.08253169,  1.00919971, -1.44416206],\n",
       "       [ 1.23843181, -0.77866858,  1.00919971,  0.96277471],\n",
       "       [ 1.25575253, -0.20453507,  1.00919971, -1.56062674],\n",
       "       [ 1.27307326, -0.20453507,  1.00919971,  1.62274124],\n",
       "       [ 1.29039398,  0.94373197,  1.04736914, -1.44416206],\n",
       "       [ 1.30771471, -0.6351352 ,  1.04736914,  1.38981187],\n",
       "       [ 1.32503543,  1.37433211,  1.04736914, -1.36651894],\n",
       "       [ 1.34235616, -0.85043527,  1.04736914,  0.72984534],\n",
       "       [ 1.35967688,  1.4460988 ,  1.23821628, -1.4053405 ],\n",
       "       [ 1.3769976 , -0.27630176,  1.23821628,  1.54509812],\n",
       "       [ 1.39431833, -0.13276838,  1.390894  , -0.7065524 ],\n",
       "       [ 1.41163905, -0.49160182,  1.390894  ,  1.38981187],\n",
       "       [ 1.42895978,  0.51313183,  1.42906343, -1.36651894],\n",
       "       [ 1.4462805 , -0.70690189,  1.42906343,  1.46745499],\n",
       "       [ 1.46360123,  0.15429838,  1.46723286, -0.43480148],\n",
       "       [ 1.48092195, -0.6351352 ,  1.46723286,  1.81684904],\n",
       "       [ 1.49824268,  1.08726535,  1.54357172, -1.01712489],\n",
       "       [ 1.5155634 , -0.77866858,  1.54357172,  0.69102378],\n",
       "       [ 1.53288413,  0.15429838,  1.61991057, -1.28887582],\n",
       "       [ 1.55020485, -0.20453507,  1.61991057,  1.35099031],\n",
       "       [ 1.56752558, -0.34806844,  1.61991057, -1.05594645],\n",
       "       [ 1.5848463 , -0.49160182,  1.61991057,  0.72984534],\n",
       "       [ 1.60216702, -0.41983513,  2.00160487, -1.63826986],\n",
       "       [ 1.61948775, -0.06100169,  2.00160487,  1.58391968],\n",
       "       [ 1.63680847,  0.58489852,  2.26879087, -1.32769738],\n",
       "       [ 1.6541292 , -0.27630176,  2.26879087,  1.11806095],\n",
       "       [ 1.67144992,  0.44136514,  2.49780745, -0.86183865],\n",
       "       [ 1.68877065, -0.49160182,  2.49780745,  0.92395314],\n",
       "       [ 1.70609137, -0.49160182,  2.91767117, -1.25005425],\n",
       "       [ 1.7234121 , -0.6351352 ,  2.91767117,  1.27334719]])"
      ]
     },
     "execution_count": 102,
     "metadata": {},
     "output_type": "execute_result"
    }
   ],
   "source": [
    "scaler = StandardScaler()\n",
    "df_scaled = scaler.fit_transform(df)\n",
    "df_scaled "
   ]
  },
  {
   "cell_type": "code",
   "execution_count": 103,
   "id": "696bd8f4",
   "metadata": {},
   "outputs": [],
   "source": [
    "from sklearn.cluster import KMeans"
   ]
  },
  {
   "cell_type": "code",
   "execution_count": 104,
   "id": "d1c24826",
   "metadata": {},
   "outputs": [],
   "source": [
    "clusters=list(range(2,8))\n",
    "ssd=[]\n",
    "for cluster_num in clusters:\n",
    "    model=KMeans(n_clusters=cluster_num,max_iter=150,random_state=45)\n",
    "    model.fit(df)\n",
    "    ssd.append(model.inertia_)"
   ]
  },
  {
   "cell_type": "code",
   "execution_count": 105,
   "id": "f327fff3",
   "metadata": {},
   "outputs": [
    {
     "data": {
      "text/plain": [
       "[387016.6872687269,\n",
       " 271335.3503523991,\n",
       " 195352.47984407307,\n",
       " 157457.1233603239,\n",
       " 122553.16204779182,\n",
       " 103184.48446143228]"
      ]
     },
     "execution_count": 105,
     "metadata": {},
     "output_type": "execute_result"
    }
   ],
   "source": [
    "ssd"
   ]
  },
  {
   "cell_type": "code",
   "execution_count": 106,
   "id": "510f28ae",
   "metadata": {},
   "outputs": [
    {
     "data": {
      "text/plain": [
       "[2, 3, 4, 5, 6, 7]"
      ]
     },
     "execution_count": 106,
     "metadata": {},
     "output_type": "execute_result"
    }
   ],
   "source": [
    "clusters"
   ]
  },
  {
   "cell_type": "code",
   "execution_count": 107,
   "id": "1a22011c",
   "metadata": {},
   "outputs": [
    {
     "data": {
      "text/plain": [
       "[<matplotlib.lines.Line2D at 0x17e79834af0>]"
      ]
     },
     "execution_count": 107,
     "metadata": {},
     "output_type": "execute_result"
    },
    {
     "data": {
      "image/png": "[encoded data removed]",
      "text/plain": [
       "<Figure size 640x480 with 1 Axes>"
      ]
     },
     "metadata": {},
     "output_type": "display_data"
    }
   ],
   "source": [
    "# Elbow Curve\n",
    "plt.plot(clusters,ssd)"
   ]
  },
  {
   "cell_type": "code",
   "execution_count": 108,
   "id": "fafcbc20",
   "metadata": {},
   "outputs": [
    {
     "data": {
      "text/plain": [
       "KMeans(max_iter=150, n_clusters=4, random_state=45)"
      ]
     },
     "execution_count": 108,
     "metadata": {},
     "output_type": "execute_result"
    }
   ],
   "source": [
    "Kmodel=KMeans(n_clusters=4,max_iter=150,random_state=45)\n",
    "Kmodel.fit(df)"
   ]
  },
  {
   "cell_type": "code",
   "execution_count": 109,
   "id": "97d76622",
   "metadata": {},
   "outputs": [
    {
     "data": {
      "text/plain": [
       "array([3, 3, 3, 3, 3, 3, 3, 3, 3, 3, 3, 3, 3, 3, 3, 3, 3, 3, 3, 3, 3, 3,\n",
       "       3, 3, 3, 3, 3, 3, 3, 3, 3, 3, 3, 3, 3, 3, 3, 3, 3, 3, 3, 3, 3, 3,\n",
       "       3, 3, 3, 3, 3, 3, 3, 3, 3, 3, 3, 3, 3, 1, 3, 1, 1, 3, 1, 1, 1, 1,\n",
       "       1, 1, 1, 1, 1, 1, 1, 1, 1, 1, 1, 1, 1, 1, 1, 1, 1, 1, 1, 1, 1, 1,\n",
       "       1, 1, 1, 1, 1, 1, 1, 1, 1, 1, 1, 1, 1, 1, 1, 1, 1, 1, 1, 1, 1, 1,\n",
       "       1, 1, 1, 1, 1, 1, 1, 1, 1, 1, 1, 1, 1, 2, 1, 2, 1, 2, 0, 2, 0, 2,\n",
       "       0, 2, 0, 2, 0, 2, 0, 2, 0, 2, 0, 2, 0, 2, 0, 2, 0, 2, 0, 2, 0, 2,\n",
       "       0, 2, 0, 2, 0, 2, 0, 2, 0, 2, 0, 2, 0, 2, 0, 2, 0, 2, 0, 2, 0, 2,\n",
       "       0, 2, 0, 2, 0, 2, 0, 2, 0, 2, 0, 2, 0, 2, 0, 2, 0, 2, 0, 2, 0, 2,\n",
       "       0, 2])"
      ]
     },
     "execution_count": 109,
     "metadata": {},
     "output_type": "execute_result"
    }
   ],
   "source": [
    "Kmodel.labels_"
   ]
  },
  {
   "cell_type": "code",
   "execution_count": 110,
   "id": "3fae6da4",
   "metadata": {},
   "outputs": [],
   "source": [
    "df[\"cluster ID\"]=Kmodel.labels_"
   ]
  },
  {
   "cell_type": "code",
   "execution_count": 111,
   "id": "38809de9",
   "metadata": {},
   "outputs": [
    {
     "data": {
      "text/html": [
       "<div>\n",
       "<style scoped>\n",
       "    .dataframe tbody tr th:only-of-type {\n",
       "        vertical-align: middle;\n",
       "    }\n",
       "\n",
       "    .dataframe tbody tr th {\n",
       "        vertical-align: top;\n",
       "    }\n",
       "\n",
       "    .dataframe thead th {\n",
       "        text-align: right;\n",
       "    }\n",
       "</style>\n",
       "<table border=\"1\" class=\"dataframe\">\n",
       "  <thead>\n",
       "    <tr style=\"text-align: right;\">\n",
       "      <th></th>\n",
       "      <th>CustomerID</th>\n",
       "      <th>Age</th>\n",
       "      <th>Annual Income (k$)</th>\n",
       "      <th>Spending Score (1-100)</th>\n",
       "      <th>cluster ID</th>\n",
       "    </tr>\n",
       "  </thead>\n",
       "  <tbody>\n",
       "    <tr>\n",
       "      <th>195</th>\n",
       "      <td>196</td>\n",
       "      <td>35</td>\n",
       "      <td>120</td>\n",
       "      <td>79</td>\n",
       "      <td>2</td>\n",
       "    </tr>\n",
       "    <tr>\n",
       "      <th>196</th>\n",
       "      <td>197</td>\n",
       "      <td>45</td>\n",
       "      <td>126</td>\n",
       "      <td>28</td>\n",
       "      <td>0</td>\n",
       "    </tr>\n",
       "    <tr>\n",
       "      <th>197</th>\n",
       "      <td>198</td>\n",
       "      <td>32</td>\n",
       "      <td>126</td>\n",
       "      <td>74</td>\n",
       "      <td>2</td>\n",
       "    </tr>\n",
       "    <tr>\n",
       "      <th>198</th>\n",
       "      <td>199</td>\n",
       "      <td>32</td>\n",
       "      <td>137</td>\n",
       "      <td>18</td>\n",
       "      <td>0</td>\n",
       "    </tr>\n",
       "    <tr>\n",
       "      <th>199</th>\n",
       "      <td>200</td>\n",
       "      <td>30</td>\n",
       "      <td>137</td>\n",
       "      <td>83</td>\n",
       "      <td>2</td>\n",
       "    </tr>\n",
       "  </tbody>\n",
       "</table>\n",
       "</div>"
      ],
      "text/plain": [
       "     CustomerID  Age  Annual Income (k$)  Spending Score (1-100)  cluster ID\n",
       "195         196   35                 120                      79           2\n",
       "196         197   45                 126                      28           0\n",
       "197         198   32                 126                      74           2\n",
       "198         199   32                 137                      18           0\n",
       "199         200   30                 137                      83           2"
      ]
     },
     "execution_count": 111,
     "metadata": {},
     "output_type": "execute_result"
    }
   ],
   "source": [
    "df.tail()"
   ]
  },
  {
   "cell_type": "code",
   "execution_count": null,
   "id": "c5902a03",
   "metadata": {},
   "outputs": [],
   "source": []
  },
  {
   "cell_type": "code",
   "execution_count": null,
   "id": "cca17280",
   "metadata": {},
   "outputs": [],
   "source": []
  }
 ],
 "metadata": {
  "kernelspec": {
   "display_name": "Python 3 (ipykernel)",
   "language": "python",
   "name": "python3"
  },
  "language_info": {
   "codemirror_mode": {
    "name": "ipython",
    "version": 3
   },
   "file_extension": ".py",
   "mimetype": "text/x-python",
   "name": "python",
   "nbconvert_exporter": "python",
   "pygments_lexer": "ipython3",
   "version": "3.9.13"
  }
 },
 "nbformat": 4,
 "nbformat_minor": 5
}
